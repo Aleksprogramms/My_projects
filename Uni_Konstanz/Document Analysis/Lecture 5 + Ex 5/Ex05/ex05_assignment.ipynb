{
    "cells": [
        {
            "cell_type": "markdown",
            "metadata": {},
            "source": [
                "## Document Analysis: Computational Methods - Summer Term 2025\n",
                "### Lectures: Jun.-Prof. Dr. Andreas Spitz\n",
                "### Tutorials: Julian Schelb"
            ]
        },
        {
            "cell_type": "markdown",
            "metadata": {},
            "source": [
                "# Exercise 05"
            ]
        },
        {
            "cell_type": "markdown",
            "metadata": {},
            "source": [
                "### You will learn about:"
            ]
        },
        {
            "cell_type": "markdown",
            "metadata": {},
            "source": [
                "- Text Similarity\n",
                "- Levenshtein (Edit) Distance\n",
                "- TF-IDF Vectors and Cosine Similarity\n",
                "\n",
                "---"
            ]
        },
        {
            "cell_type": "markdown",
            "metadata": {},
            "source": [
                "\n",
                "## Task 1 - Levenshtein (Edit) Distance (pen and paper):"
            ]
        },
        {
            "cell_type": "markdown",
            "metadata": {},
            "source": [
                "### Part 1:\n",
                "Calculate the Levenshtein distance between words \n",
                "- \"signed\" and \"sealed\"\n",
                "\n",
                "Fill out the edit distance table like it is shown on the lecture slides."
            ]
        },
        {
            "cell_type": "markdown",
            "metadata": {
                "pycharm": {
                    "name": "#%% md\n"
                }
            },
            "source": [
                "<font color='ff000000'>\\# TEXT SUBMISSION ANSWER HERE (Double click to edit) </font>"
            ]
        },
        {
            "cell_type": "markdown",
            "metadata": {},
            "source": [
                "---"
            ]
        },
        {
            "cell_type": "markdown",
            "metadata": {},
            "source": [
                "### Part 2: \n",
                "What is the advantage and disadvantage of this method for measuring word similarity?"
            ]
        },
        {
            "cell_type": "markdown",
            "metadata": {},
            "source": [
                "<font color='ff000000'>\\# TEXT SUBMISSION ANSWER HERE (Double click to edit) </font>"
            ]
        },
        {
            "cell_type": "markdown",
            "metadata": {},
            "source": [
                "---"
            ]
        },
        {
            "cell_type": "markdown",
            "metadata": {},
            "source": [
                "## Task 2 - Text Similarity:\n",
                "\n",
                "### Part 1:\n",
                "Your task is to calculate pair-wise Cosine similarities \n",
                "between the first 1000 sentences of the 'debates' dataset. \n",
                "Calculate the similarities on sentence TF-IDF vectors. Plot the similarity values in a heatmap visualization. \n",
                "\n",
                "- Calculate the Cosine similarity and visualize the results without cleaning the data.\n",
                "- Calculate the Cosine similarity and visualize the results after cleaning the data (think of appropriate methods for data cleaning)."
            ]
        },
        {
            "cell_type": "code",
            "execution_count": 1,
            "metadata": {
                "pycharm": {
                    "name": "#%% tt\n"
                }
            },
            "outputs": [
                {
                    "data": {
                        "text/html": [
                            "        <script type=\"text/javascript\">\n",
                            "        window.PlotlyConfig = {MathJaxConfig: 'local'};\n",
                            "        if (window.MathJax) {MathJax.Hub.Config({SVG: {font: \"STIX-Web\"}});}\n",
                            "        if (typeof require !== 'undefined') {\n",
                            "        require.undef(\"plotly\");\n",
                            "        requirejs.config({\n",
                            "            paths: {\n",
                            "                'plotly': ['https://cdn.plot.ly/plotly-latest.min']\n",
                            "            }\n",
                            "        });\n",
                            "        require(['plotly'], function(Plotly) {\n",
                            "            window._Plotly = Plotly;\n",
                            "        });\n",
                            "        }\n",
                            "        </script>\n",
                            "        "
                        ]
                    },
                    "metadata": {},
                    "output_type": "display_data"
                }
            ],
            "source": [
                "# you can use the given libraries or choose different ones for the similarity calculation\n",
                "# use plotly library to create a heatmap visualization\n",
                "\n",
                "import json\n",
                "import nltk\n",
                "import plotly\n",
                "import plotly.express as px\n",
                "from sklearn.metrics.pairwise import cosine_similarity\n",
                "plotly.offline.init_notebook_mode(connected=True)\n"
            ]
        },
        {
            "cell_type": "code",
            "execution_count": 2,
            "metadata": {
                "pycharm": {
                    "is_executing": false,
                    "name": "#%%\n"
                }
            },
            "outputs": [
                {
                    "name": "stderr",
                    "output_type": "stream",
                    "text": [
                        "[nltk_data] Downloading package punkt to\n",
                        "[nltk_data]     C:\\Users\\Rita\\AppData\\Roaming\\nltk_data...\n",
                        "[nltk_data]   Package punkt is already up-to-date!\n"
                    ]
                },
                {
                    "data": {
                        "text/plain": [
                            "True"
                        ]
                    },
                    "execution_count": 2,
                    "metadata": {},
                    "output_type": "execute_result"
                }
            ],
            "source": [
                "nltk.download('punkt')"
            ]
        },
        {
            "cell_type": "code",
            "execution_count": 3,
            "metadata": {
                "pycharm": {
                    "is_executing": false,
                    "name": "#%%\n"
                }
            },
            "outputs": [],
            "source": [
                "# read debates\n",
                "\n",
                "with open('data/texts.json', 'r') as infile:\n",
                "    data = json.load(infile)\n",
                "\n",
                "content_debates = data['debates'];"
            ]
        },
        {
            "cell_type": "code",
            "execution_count": 4,
            "metadata": {
                "pycharm": {
                    "name": "#%%\n"
                }
            },
            "outputs": [],
            "source": [
                "# TODO - ADD YOUR CODE HERE\n"
            ]
        },
        {
            "cell_type": "markdown",
            "metadata": {
                "pycharm": {
                    "name": "#%% md\n"
                }
            },
            "source": [
                "---\n",
                "\n",
                "#### Part 2:\n",
                "\n",
                "- Interpret the results. What kind of insights can you gain from the heatmap visualizations?\n",
                "\n",
                "- How does data cleaning influence the similarity results? "
            ]
        },
        {
            "cell_type": "markdown",
            "metadata": {},
            "source": [
                "<font color='ff000000'>\\# TEXT SUBMISSION ANSWER HERE (Double click to edit) </font>"
            ]
        },
        {
            "cell_type": "markdown",
            "metadata": {},
            "source": [
                "---"
            ]
        },
        {
            "cell_type": "markdown",
            "metadata": {},
            "source": [
                "\n",
                "## Task 3 - Search Engine:\n",
                "\n",
                "### Part 1:\n",
                "Read the critics for the first 200 movies from the 'rottentomatoes' dataset. \n",
                "First, create a document for each movie by concatenating their critic entries. \n",
                "Remove stop words, and compute TF-IDF vectors for each document."
            ]
        },
        {
            "cell_type": "code",
            "execution_count": null,
            "metadata": {
                "collapsed": false,
                "jupyter": {
                    "outputs_hidden": false
                },
                "pycharm": {
                    "name": "#%%\n"
                }
            },
            "outputs": [],
            "source": [
                "# TODO - ADD YOUR CODE HERE\n",
                "\n"
            ]
        },
        {
            "cell_type": "markdown",
            "metadata": {},
            "source": [
                "### Part 2:\n",
                "Write a function for querying the data. \n",
                "Given a set of input terms as parameter, the function should remove stop words in the input, \n",
                "compute a TF-IDF vector of the query, and match it to all stored document vectors by using Cosine similarity. \n",
                "Rank all documents by Cosine similarity to the query and output the 10 most similar documents to the query.\n"
            ]
        },
        {
            "cell_type": "code",
            "execution_count": null,
            "metadata": {
                "collapsed": false,
                "jupyter": {
                    "outputs_hidden": false
                },
                "pycharm": {
                    "name": "#%%\n"
                }
            },
            "outputs": [],
            "source": [
                "# TODO - ADD YOUR CODE HERE\n"
            ]
        },
        {
            "cell_type": "markdown",
            "metadata": {},
            "source": []
        },
        {
            "cell_type": "markdown",
            "metadata": {},
            "source": [
                "### Part 3:\n",
                "Run a few queries on the data. Discuss the types of errors that your search engine is making."
            ]
        },
        {
            "cell_type": "markdown",
            "metadata": {},
            "source": [
                "<font color='ff000000'>\\# TEXT SUBMISSION ANSWER HERE (Double click to edit) </font>"
            ]
        },
        {
            "cell_type": "markdown",
            "metadata": {},
            "source": [
                "#### Submitting your results:\n",
                "\n",
                "To submit your results, please:\n",
                "\n",
                "- save this file, i.e., `ex??_assignment.ipynb`.\n",
                "- if you reference any external files (e.g., images), please create a zip or rar archieve and put the notebook files and all referenced files in there.\n",
                "- login to ILIAS and submit the `*.ipynb` or archive for the corresponding assignment."
            ]
        },
        {
            "cell_type": "markdown",
            "metadata": {},
            "source": [
                "**Remarks:**\n",
                "    \n",
                "- Do not copy any code from the Internet. In case you want to use publicly available code, please, add the reference to the respective code snippet.\n",
                "- Check your code compiles and executes, even after you have restarted the Kernel.\n",
                "- Submit your written solutions and the coding exercises within the provided spaces and not otherwise.\n",
                "- Write the names of your partner and your name in the top section."
            ]
        },
        {
            "cell_type": "code",
            "execution_count": null,
            "metadata": {},
            "outputs": [],
            "source": []
        }
    ],
    "metadata": {
        "kernelspec": {
            "display_name": "Python 3 (ipykernel)",
            "language": "python",
            "name": "python3"
        },
        "language_info": {
            "codemirror_mode": {
                "name": "ipython",
                "version": 3
            },
            "file_extension": ".py",
            "mimetype": "text/x-python",
            "name": "python",
            "nbconvert_exporter": "python",
            "pygments_lexer": "ipython3",
            "version": "3.10.8"
        },
        "pycharm": {
            "stem_cell": {
                "cell_type": "raw",
                "metadata": {
                    "collapsed": false
                },
                "source": []
            }
        }
    },
    "nbformat": 4,
    "nbformat_minor": 4
}
